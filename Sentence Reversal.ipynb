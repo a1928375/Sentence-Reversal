{
 "cells": [
  {
   "cell_type": "markdown",
   "metadata": {},
   "source": [
    "# Mine"
   ]
  },
  {
   "cell_type": "code",
   "execution_count": 9,
   "metadata": {},
   "outputs": [
    {
     "name": "stdout",
     "output_type": "stream",
     "text": [
      "go? to ready you are John, Hi\n",
      "before space\n",
      "after space\n",
      "you are how John Hello\n",
      "1\n",
      "14.2 µs ± 3.75 µs per loop (mean ± std. dev. of 7 runs, 100000 loops each)\n"
     ]
    }
   ],
   "source": [
    "def rev_word(s):\n",
    "    \n",
    "    while s.find(\"  \") != -1:                #deal with all more than 1 whitespace\n",
    "        \n",
    "        s = s.replace(\"  \",\" \")              #注意，一定要寫 s = s.replace，因為string不是list (list有mutation)\n",
    "    \n",
    "    if s.rfind(\" \") == len(s)-1:             #deal with last whitespace if any，Ex: \"space after \"\n",
    "       s = s[:s.rfind(\" \")]\n",
    "    \n",
    "    new = \"\"\n",
    "    space = 0\n",
    "    \n",
    "    while space != -1:   \n",
    "       space = s.rfind(\" \")\n",
    "       new =  new + \" \" + s[space+1:]\n",
    "       s = s[:space]\n",
    "    \n",
    "    new = new[1:]                            #deal with very first whitespace\n",
    "\n",
    "    if new.rfind(\" \") == len(new)-1:         #deal with last whitespace if any，Ex: \" before space\"\n",
    "       new = new[:new.rfind(\" \")]\n",
    "    \n",
    "    return new    \n",
    "\n",
    "print (rev_word('Hi John,   are you ready to go?'))\n",
    "\n",
    "print (rev_word(('    space before')))\n",
    "\n",
    "print (rev_word(('space after     ')))\n",
    "\n",
    "print (rev_word(('   Hello John    how are you   ')))\n",
    "\n",
    "print (rev_word(('1')))\n",
    "\n",
    "%timeit rev_word('Hi John,   are you ready to go? Hi John,   are you ready to go? Hi John,   are you ready to go?')"
   ]
  },
  {
   "cell_type": "markdown",
   "metadata": {},
   "source": [
    "# Instructor-1\n",
    "# valid solutions => in an interview setting you'll have to work out the basic algorithm that is used"
   ]
  },
  {
   "cell_type": "code",
   "execution_count": 10,
   "metadata": {},
   "outputs": [
    {
     "name": "stdout",
     "output_type": "stream",
     "text": [
      "1.82 µs ± 602 ns per loop (mean ± std. dev. of 7 runs, 100000 loops each)\n",
      "1.84 µs ± 484 ns per loop (mean ± std. dev. of 7 runs, 1000000 loops each)\n"
     ]
    }
   ],
   "source": [
    "def rev_word1(s):\n",
    "    return \" \".join(list(reversed(s.split())))\n",
    "\n",
    "#Or\n",
    "\n",
    "def rev_word2(s):\n",
    "    return \" \".join(s.split()[::-1])\n",
    "\n",
    "%timeit rev_word1('Hi John,   are you ready to go? Hi John,   are you ready to go? Hi John,   are you ready to go?')\n",
    "%timeit rev_word2('Hi John,   are you ready to go? Hi John,   are you ready to go? Hi John,   are you ready to go?')"
   ]
  },
  {
   "cell_type": "markdown",
   "metadata": {},
   "source": [
    "# Instructor-2"
   ]
  },
  {
   "cell_type": "code",
   "execution_count": 11,
   "metadata": {},
   "outputs": [
    {
     "name": "stdout",
     "output_type": "stream",
     "text": [
      "27.3 µs ± 267 ns per loop (mean ± std. dev. of 7 runs, 10000 loops each)\n"
     ]
    }
   ],
   "source": [
    "def rev_word3(s):\n",
    "    \"\"\"\n",
    "    Manually doing the splits on the spaces.\n",
    "    \"\"\"\n",
    "    \n",
    "    words = []\n",
    "    length = len(s)\n",
    "    spaces = [' ']\n",
    "    \n",
    "    # Index Tracker\n",
    "    i = 0\n",
    "    \n",
    "    # While index is less than length of string\n",
    "    while i < length:\n",
    "        \n",
    "        # If element isn't a space\n",
    "        if s[i] not in spaces:\n",
    "            \n",
    "            # The word starts at this index\n",
    "            word_start = i\n",
    "            \n",
    "            while i < length and s[i] not in spaces:\n",
    "                \n",
    "                # Get index where word ends\n",
    "                i += 1\n",
    "            # Append that word to the list\n",
    "            words.append(s[word_start:i])\n",
    "        # Add to index\n",
    "        i += 1\n",
    "        \n",
    "    # Join the reversed words\n",
    "    return \" \".join(reversed(words))\n",
    "\n",
    "%timeit rev_word3('Hi John,   are you ready to go? Hi John,   are you ready to go? Hi John,   are you ready to go?')"
   ]
  }
 ],
 "metadata": {
  "kernelspec": {
   "display_name": "Python 3",
   "language": "python",
   "name": "python3"
  },
  "language_info": {
   "codemirror_mode": {
    "name": "ipython",
    "version": 3
   },
   "file_extension": ".py",
   "mimetype": "text/x-python",
   "name": "python",
   "nbconvert_exporter": "python",
   "pygments_lexer": "ipython3",
   "version": "3.7.3"
  }
 },
 "nbformat": 4,
 "nbformat_minor": 2
}
